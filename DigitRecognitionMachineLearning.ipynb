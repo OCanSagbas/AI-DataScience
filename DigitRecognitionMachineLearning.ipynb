{
  "nbformat": 4,
  "nbformat_minor": 0,
  "metadata": {
    "colab": {
      "provenance": [],
      "include_colab_link": true
    },
    "kernelspec": {
      "name": "python3",
      "display_name": "Python 3"
    },
    "language_info": {
      "name": "python"
    }
  },
  "cells": [
    {
      "cell_type": "markdown",
      "metadata": {
        "id": "view-in-github",
        "colab_type": "text"
      },
      "source": [
        "<a href=\"https://colab.research.google.com/github/OCanSagbas/AI-DataScience/blob/main/DigitRecognitionMachineLearning.ipynb\" target=\"_parent\"><img src=\"https://colab.research.google.com/assets/colab-badge.svg\" alt=\"Open In Colab\"/></a>"
      ]
    },
    {
      "cell_type": "code",
      "source": [
        "import numpy as np\n",
        "from sklearn.model_selection import train_test_split\n",
        "from sklearn.ensemble import RandomForestClassifier\n",
        "from sklearn.metrics import accuracy_score, precision_score, recall_score, f1_score\n",
        "from sklearn import datasets\n",
        "\n",
        "class DigitRecognition:\n",
        "    def __init__(self, X, y, batch_size=32):\n",
        "        self.X = X\n",
        "        self.y = y\n",
        "        self.batch_size = batch_size\n",
        "\n",
        "    def data_iterator(self):\n",
        "        batch_number = len(self.X) // self.batch_size\n",
        "        for i in range(batch_number):\n",
        "            start_idx = i * self.batch_size\n",
        "            end_idx = (i + 1) * self.batch_size\n",
        "            yield self.X[start_idx:end_idx], self.y[start_idx:end_idx]\n",
        "\n",
        "    def preprocess_data(self, data):\n",
        "        return list(map(lambda x: x * 2, data))\n",
        "\n",
        "    def apply_preprocessing(self, data):\n",
        "        return list(map(self.preprocess_data, data))\n",
        "     #   return list(map(lambda sublist: list(map(lambda x: x * 2, sublist)), data))\n",
        "\n",
        "    def train_model(self, X_train, y_train):\n",
        "        model = RandomForestClassifier()\n",
        "        model.fit(X_train, y_train)\n",
        "        return model\n",
        "\n",
        "    def evaluate_model(self, model, X_test, y_test):\n",
        "        predictions = model.predict(X_test)\n",
        "        accuracy = accuracy_score(y_test, predictions)\n",
        "        precision = precision_score(y_test, predictions, average='micro')\n",
        "        recall = recall_score(y_test, predictions, average='micro')\n",
        "        f1 = f1_score(y_test, predictions, average='micro')\n",
        "        return accuracy, precision, recall, f1\n",
        "\n",
        "mnist = datasets.load_digits()\n",
        "X = mnist['data']\n",
        "y = mnist['target']\n",
        "\n",
        "X_train, X_test, y_train, y_test = train_test_split(X, y, test_size=0.2, random_state=42)\n",
        "\n",
        "digit_recognition = DigitRecognition(X_train, y_train, batch_size=64)\n",
        "X_train_processed = digit_recognition.apply_preprocessing(X_train)\n",
        "X_test_processed = digit_recognition.apply_preprocessing(X_test)\n",
        "\n",
        "trained_model = digit_recognition.train_model(X_train_processed, y_train)\n",
        "\n",
        "accuracy, precision, recall, f1 = digit_recognition.evaluate_model(trained_model, X_test_processed, y_test)\n",
        "print(\"Model Accuracy:\", accuracy)\n",
        "print(\"Precision:\", precision)\n",
        "print(\"Recall:\", recall)\n",
        "print(\"F1 Score:\", f1)\n"
      ],
      "metadata": {
        "colab": {
          "base_uri": "https://localhost:8080/"
        },
        "id": "8ac1csT86Qzb",
        "outputId": "117c2f4a-586a-46c9-9e0c-01c316d12a6a"
      },
      "execution_count": 2,
      "outputs": [
        {
          "output_type": "stream",
          "name": "stdout",
          "text": [
            "Model Accuracy: 0.9694444444444444\n",
            "Precision: 0.9694444444444444\n",
            "Recall: 0.9694444444444444\n",
            "F1 Score: 0.9694444444444444\n"
          ]
        }
      ]
    },
    {
      "cell_type": "code",
      "source": [
        "import numpy as np\n",
        "from sklearn.model_selection import train_test_split\n",
        "from sklearn.neural_network import MLPClassifier  # MLPClassifier eklenmiş\n",
        "from sklearn.metrics import accuracy_score, precision_score, recall_score, f1_score\n",
        "from sklearn import datasets\n",
        "\n",
        "class DigitRecognition:\n",
        "    def __init__(self, X, y, batch_size=32):\n",
        "        self.X = X\n",
        "        self.y = y\n",
        "        self.batch_size = batch_size\n",
        "\n",
        "    def data_iterator(self):\n",
        "        batch_number = len(self.X) // self.batch_size\n",
        "        for i in range(batch_number):\n",
        "            start_idx = i * self.batch_size\n",
        "            end_idx = (i + 1) * self.batch_size\n",
        "            yield self.X[start_idx:end_idx], self.y[start_idx:end_idx]\n",
        "\n",
        "    def preprocess_data(self, data):\n",
        "        return list(map(lambda x: x * 2, data))\n",
        "\n",
        "    def apply_preprocessing(self, data):\n",
        "        return list(map(self.preprocess_data, data))\n",
        "\n",
        "    def train_model(self, X_train, y_train):\n",
        "        model = MLPClassifier(hidden_layer_sizes=(100, ), max_iter=1000)  # MLPClassifier kullanıldı\n",
        "        model.fit(X_train, y_train)\n",
        "        return model\n",
        "\n",
        "    def evaluate_model(self, model, X_test, y_test):\n",
        "        predictions = model.predict(X_test)\n",
        "        accuracy = accuracy_score(y_test, predictions)\n",
        "        precision = precision_score(y_test, predictions, average='micro')\n",
        "        recall = recall_score(y_test, predictions, average='micro')\n",
        "        f1 = f1_score(y_test, predictions, average='micro')\n",
        "        return accuracy, precision, recall, f1\n",
        "\n",
        "\n",
        "mnist = datasets.load_digits()\n",
        "X = mnist['data']\n",
        "y = mnist['target']\n",
        "\n",
        "X_train, X_test, y_train, y_test = train_test_split(X, y, test_size=0.2, random_state=42)\n",
        "\n",
        "digit_recognition = DigitRecognition(X_train, y_train, batch_size=64)\n",
        "X_train_processed = digit_recognition.apply_preprocessing(X_train)\n",
        "X_test_processed = digit_recognition.apply_preprocessing(X_test)\n",
        "\n",
        "trained_model = digit_recognition.train_model(X_train_processed, y_train)\n",
        "\n",
        "accuracy, precision, recall, f1 = digit_recognition.evaluate_model(trained_model, X_test_processed, y_test)\n",
        "print(\"Model Accuracy:\", accuracy)\n",
        "print(\"Precision:\", precision)\n",
        "print(\"Recall:\", recall)\n",
        "print(\"F1 Score:\", f1)\n"
      ],
      "metadata": {
        "colab": {
          "base_uri": "https://localhost:8080/"
        },
        "id": "K_UYFjNs9Egg",
        "outputId": "ab4398c3-7a9e-4255-e078-37c40b948ab2"
      },
      "execution_count": 3,
      "outputs": [
        {
          "output_type": "stream",
          "name": "stdout",
          "text": [
            "Model Accuracy: 0.9638888888888889\n",
            "Precision: 0.9638888888888889\n",
            "Recall: 0.9638888888888889\n",
            "F1 Score: 0.9638888888888889\n"
          ]
        }
      ]
    },
    {
      "cell_type": "code",
      "source": [
        "import matplotlib\n",
        "import matplotlib.pyplot as plt\n",
        "\n",
        "some_digit = X[100]\n",
        "some_digit_image = some_digit.reshape(8, 8)\n",
        "\n",
        "plt.imshow(some_digit_image, cmap = matplotlib.cm.binary, interpolation = \"nearest\")\n",
        "plt.axis(\"on\")\n",
        "plt.show()"
      ],
      "metadata": {
        "id": "Q0bz1ojfexNq",
        "colab": {
          "base_uri": "https://localhost:8080/",
          "height": 430
        },
        "outputId": "a98d39a8-761f-4f4b-968a-7ab1b47056aa"
      },
      "execution_count": 4,
      "outputs": [
        {
          "output_type": "display_data",
          "data": {
            "text/plain": [
              "<Figure size 640x480 with 1 Axes>"
            ],
            "image/png": "[encoded data removed]"
          },
          "metadata": {}
        }
      ]
    }
  ]
}