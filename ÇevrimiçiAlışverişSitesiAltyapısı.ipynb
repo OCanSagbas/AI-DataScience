{
  "cells": [
    {
      "cell_type": "markdown",
      "metadata": {
        "id": "view-in-github",
        "colab_type": "text"
      },
      "source": [
        "<a href=\"https://colab.research.google.com/github/OCanSagbas/AI-DataScience/blob/main/%C3%87evrimi%C3%A7iAl%C4%B1%C5%9Fveri%C5%9FSitesiAltyap%C4%B1s%C4%B1.ipynb\" target=\"_parent\"><img src=\"https://colab.research.google.com/assets/colab-badge.svg\" alt=\"Open In Colab\"/></a>"
      ]
    },
    {
      "cell_type": "markdown",
      "id": "9a12d8dc",
      "metadata": {
        "id": "9a12d8dc"
      },
      "source": [
        "# Yapay Zeka Uzmanlık Programı"
      ]
    },
    {
      "cell_type": "markdown",
      "id": "34ca256f",
      "metadata": {
        "id": "34ca256f"
      },
      "source": [
        "---"
      ]
    },
    {
      "cell_type": "markdown",
      "id": "a92933e2",
      "metadata": {
        "id": "a92933e2"
      },
      "source": [
        "### **Python Programlama Giriş**"
      ]
    },
    {
      "cell_type": "markdown",
      "id": "21fd0fc2",
      "metadata": {
        "id": "21fd0fc2"
      },
      "source": [
        "- Bu dokümanda hayali bir çevrimiçi alışveriş sitesinin alt yapısını oluşturacaksınız.\n",
        "- \"raise NotImplementedError\" ile belirtilen yapılar sizin tarafınızdan tamamlanmalıdır.\n",
        "- Belirlenen sınıf ve metod yapıları değiştirilmeden/silinmeden istenen eklemeler yapılabilir."
      ]
    },
    {
      "cell_type": "markdown",
      "id": "2a1aba8e",
      "metadata": {
        "id": "2a1aba8e"
      },
      "source": [
        "---"
      ]
    },
    {
      "cell_type": "code",
      "execution_count": 16,
      "id": "e5cb2c28",
      "metadata": {
        "scrolled": true,
        "id": "e5cb2c28"
      },
      "outputs": [],
      "source": [
        "class Urun:\n",
        "    \"\"\"\n",
        "    Alışveriş sitesinde bulunan ürünlerin temel sınıfıdır.\n",
        "    \"\"\"\n",
        "    def __init__(self, urun_adi, fiyat):\n",
        "        \"\"\"\n",
        "        Nesneyi üretir.\n",
        "        \"\"\"\n",
        "        self.urun_adi = urun_adi\n",
        "        self.fiyat = fiyat\n",
        "        self.urun_id = id(self)\n",
        "\n",
        "    def urun_bilgileri(self):\n",
        "        \"\"\"\n",
        "        Ürun bilgilerini döndürür.\n",
        "        \"\"\"\n",
        "        return f\"{self.urun_adi}(#{self.urun_id}) - Fiyat: {self.fiyat} TL\""
      ]
    },
    {
      "cell_type": "code",
      "execution_count": 17,
      "id": "d1e91c60",
      "metadata": {
        "id": "d1e91c60"
      },
      "outputs": [],
      "source": [
        "class Giyim(Urun):\n",
        "    \"\"\"\n",
        "    Alışveriş sitesinde bulunan giyim ürünlerinin temel sınıfıdır.\n",
        "    \"\"\"\n",
        "    def __init__(self, urun_adi, fiyat, renk, beden):\n",
        "        \"\"\"\n",
        "        Nesneyi üretir.\n",
        "        \"\"\"\n",
        "        super().__init__(urun_adi,fiyat)\n",
        "        self.renk=renk\n",
        "        self.beden=beden\n",
        "\n",
        "    def urun_bilgileri(self):\n",
        "        \"\"\"\n",
        "        Ürun bilgilerini döndürür.\n",
        "        \"\"\"\n",
        "        return f\"{self.urun_adi}(#{self.urun_id}) - Fiyat: {self.fiyat} TL - Renk: {self.renk} - Beden: {self.beden}\""
      ]
    },
    {
      "cell_type": "code",
      "execution_count": 20,
      "id": "7a7995a7",
      "metadata": {
        "id": "7a7995a7"
      },
      "outputs": [],
      "source": [
        "class Beyaz_Esya(Urun):\n",
        "    \"\"\"\n",
        "    Alışveriş sitesinde bulunan beyaz eşya ürünlerinin temel sınıfıdır.\n",
        "    \"\"\"\n",
        "    def __init__(self, urun_adi, fiyat, enerji_tuketimi_sinifi):\n",
        "        \"\"\"\n",
        "        Nesneyi üretir.\n",
        "        \"\"\"\n",
        "        super().__init__(urun_adi,fiyat)\n",
        "        self.enerji_tuketimi_sinifi=enerji_tuketimi_sinifi\n",
        "\n",
        "    def urun_bilgileri(self):\n",
        "        \"\"\"\n",
        "        Ürun bilgilerini döndürür.\n",
        "        \"\"\"\n",
        "        return f\"{self.urun_adi}(#{self.urun_id}) - Fiyat: {self.fiyat} TL - Enerji Sınıfı: {self.enerji_tuketimi_sinifi} \""
      ]
    },
    {
      "cell_type": "code",
      "execution_count": 19,
      "id": "27c03446",
      "metadata": {
        "id": "27c03446"
      },
      "outputs": [],
      "source": [
        "class Depo:\n",
        "    \"\"\"\n",
        "    Alışveriş sitesinde satışı yapılan \"Urun\" nesnelerinin stoklarının tutulacağı yapıdır.\n",
        "    \"\"\"\n",
        "    def __init__(self):\n",
        "        \"\"\"\n",
        "        Nesneyi üretir\n",
        "        \"\"\"\n",
        "        self.urunler = {}\n",
        "\n",
        "    def urun_ekle(self, urun, adet):\n",
        "        \"\"\"\n",
        "        Ürünü sisteme ekler, eğer ekli bir ürün ise stok sayısı artar.\n",
        "        \"\"\"\n",
        "        if urun.urun_id not in self.urunler:\n",
        "            self.urunler[urun.urun_id]=(urun,adet)\n",
        "        else:\n",
        "            self.urunler[urun.urun_id]=(urun,adet+self.urunler[urun.urun_id][1])\n",
        "\n",
        "    def stok_kontrol(self, urun, adet):\n",
        "        \"\"\"\n",
        "        Seçili üründen istenen sayıda depoda olup olmadığını True/False olarak döndürür.\n",
        "        \"\"\"\n",
        "        try:\n",
        "          return self.urunler[urun.urun_id][1] >= adet\n",
        "        except:\n",
        "          return False\n",
        "    def stoktan_dus(self, urun, adet):\n",
        "        \"\"\"\n",
        "        Ürünün sayısını sistemden düşer, eğer yeterli stok yoksa veya ürün depoda yoksa işlem yapmaz.\n",
        "        \"\"\"\n",
        "        if self.stok_kontrol(urun,adet):\n",
        "          self.urunler[urun.urun_id] = (urun, self.urunler[urun.urun_id][1] - adet)\n",
        "\n",
        "    def tum_urun_bilgilerini_listele(self):\n",
        "        \"\"\"\n",
        "        Depodaki tüm ürünlerin bilgilerini listeler.\n",
        "        \"\"\"\n",
        "        return [urun.urun_bilgileri() + \" - Stok: \" + str(adet) for key, (urun, adet) in self.urunler.items()]"
      ]
    },
    {
      "cell_type": "code",
      "execution_count": 21,
      "id": "5c2394c2",
      "metadata": {
        "id": "5c2394c2"
      },
      "outputs": [],
      "source": [
        "class Siparis:\n",
        "    \"\"\"\n",
        "    Kullanıcıların satın alma taleplerini oluşturacağı yapıdır.\n",
        "    \"\"\"\n",
        "    def __init__(self, urun, adet):\n",
        "        \"\"\"\n",
        "        Nesneyi üretir\n",
        "        \"\"\"\n",
        "        self.urun = urun\n",
        "        self.adet = adet\n",
        "        self.indirimsiz_tutar = self.siparis_tutari()\n",
        "        self.siparis_id = id(self)\n",
        "\n",
        "    def siparis_tutari(self):\n",
        "        \"\"\"\n",
        "        Siparişin tutarini hesaplar\n",
        "        \"\"\"\n",
        "        return self.urun.fiyat*self.adet\n",
        "\n",
        "    def depo_kontrol(self, depo):\n",
        "        \"\"\"\n",
        "        Siparişin seçili depodan karşılanabilir olup olmadığını True/False olarak döndürür.\n",
        "        \"\"\"\n",
        "        return depo.stok_kontrol(self.urun,self.adet)\n",
        "\n",
        "    def siparis_ver(self, depo):\n",
        "        \"\"\"\n",
        "        Depo kontrolü yapar, sipariş geçerli ise ürünleri stoktan düşer, sipariş tamamlanırsa True, depodan sipariş karşılanamazsa False döndürülür.\n",
        "        \"\"\"\n",
        "        if self.depo_kontrol(depo):\n",
        "          depo.stoktan_dus(self.urun,self.adet)\n",
        "          return True\n",
        "        return False\n",
        "\n",
        "    def siparis_bilgisi(self):\n",
        "        \"\"\"\n",
        "        Sipariş bilgisini döndürür\n",
        "        \"\"\"\n",
        "        return self.urun.urun_bilgileri() + \" - Adet: \" + str(self.adet) + \" - Toplam Tutar: \" + str(self.indirimsiz_tutar)"
      ]
    },
    {
      "cell_type": "code",
      "source": [
        "class Alisveris_Sepeti:\n",
        "    \"\"\"\n",
        "    Çevrimiçi kullanıcının tüm siparişlerini tuttuğu yapıdır. Siparişlerin durumu için birden çok depoyu kontrol edebilir.\n",
        "    \"\"\"\n",
        "    def __init__(self, *depolar):\n",
        "        \"\"\"\n",
        "        Nesneyi üretir\n",
        "        \"\"\"\n",
        "        self.depolar = [depo for depo in depolar]\n",
        "\n",
        "        self.tum_siparisler_listesi = {}\n",
        "        self.toplam_tutar = 0\n",
        "\n",
        "        self.alinabilir_siparisler_listesi = {}\n",
        "        self.alinabilir_urunler_toplam_tutar = 0\n",
        "\n",
        "    def siparis_ekle(self, siparis):\n",
        "        \"\"\"\n",
        "        Sisteme yeni siparişi ekler, özel indirim olup olmadığı kontrol edilerek toplam tutarı günceller.\n",
        "        \"\"\"\n",
        "        self.tum_siparisler_listesi[siparis.siparis_id] = siparis\n",
        "        self.toplam_tutar += siparis.indirimsiz_tutar\n",
        "\n",
        "    def tum_siparisleri_listele(self):\n",
        "        \"\"\"\n",
        "        Alisveris listesindeki tüm siparişlerin bilgilerini görselleştirir.\n",
        "        \"\"\"\n",
        "        return [siparis.siparis_bilgisi() for siparis in self.tum_siparisler_listesi.values()]\n",
        "\n",
        "    def siparis_sil(self, siparis_id):\n",
        "        \"\"\"\n",
        "        Sistemden siparişi siler, toplam tutarı günceller.\n",
        "        \"\"\"\n",
        "        del self.tum_siparisler_listesi[siparis_id]\n",
        "\n",
        "    def tum_depolar_kontrol(self, siparis):\n",
        "        toplam_adet = 0\n",
        "        for depo in self.depolar:\n",
        "            try:\n",
        "                toplam_adet += depo.urunler[siparis.urun.urun_id][1]\n",
        "            except:\n",
        "                pass\n",
        "        return toplam_adet >= siparis.adet\n",
        "\n",
        "    def guncelle(self):\n",
        "        \"\"\"\n",
        "        Depolara yeni ürün gelmesine veya satış olma durumlarına karşı alınabilir ve yetersiz stok olan ürünlerin listelerini ve alınabilir ürünlerin fiyatlarını günceller.\n",
        "        \"\"\"\n",
        "        self.alinabilir_siparisler_listesi = {}\n",
        "        self.yetersiz_stoklu_siparisler_listesi = {}\n",
        "        self.alinabilir_urunler_toplam_tutar = 0\n",
        "\n",
        "        for siparis in self.tum_siparisler_listesi.values():\n",
        "            if self.tum_depolar_kontrol(siparis):\n",
        "                self.alinabilir_siparisler_listesi[siparis.siparis_id] = siparis\n",
        "                self.alinabilir_urunler_toplam_tutar += self.ozel_kampanya_uygula(siparis)\n",
        "\n",
        "    def alinabilir_tum_siparislerin_bilgilerini_listele(self):\n",
        "        \"\"\"\n",
        "        Kullanıcının sipariş oluşturduğu ve depolarda stoğu olan tüm ürünlerin bilgilerini ve indirimli/indirimsiz tutarlarını ekrana yazdırır.\n",
        "        \"\"\"\n",
        "        return [siparis.siparis_bilgisi() + \" - Indirimli Fiyat : \" + str(self.ozel_kampanya_uygula(siparis)) for siparis in self.alinabilir_siparisler_listesi.values()]\n",
        "\n",
        "    def alisverisi_tamamla(self):\n",
        "        \"\"\"\n",
        "        Depolardan tedarik edilebilecek ürünleri stoktan düşer, siparişler listelerini ve toplam tutar değerlerini günceller.\n",
        "        Alışveriş sırasında ürünlerin hangi depodan alındığı önemli değildir.\n",
        "        \"\"\"\n",
        "        for uygun_siparis in self.alinabilir_siparisler_listesi.values():\n",
        "            depodan_cekilecek_adet = uygun_siparis.adet\n",
        "            for depo in self.depolar:\n",
        "                # Depoda yeteri kadar varsa hepsini buradan alalım\n",
        "                if depo.stok_kontrol(uygun_siparis.urun, depodan_cekilecek_adet):\n",
        "                    depo.stoktan_dus(uygun_siparis.urun, depodan_cekilecek_adet)\n",
        "                    break\n",
        "                # Depoda yeteri kadar stok yoksa depodaki tüm ürünleri alıp sonraki depoya bakalım\n",
        "                else:\n",
        "                    # try olmazsa bu depoda bu ürün yoksa hata alırız\n",
        "                    try:\n",
        "                        depodan_cekilecek_adet -= depo.urunler[uygun_siparis.urun.urun_id][1]\n",
        "                        depo.stoktan_dus(uygun_siparis.urun, depo.urunler[uygun_siparis.urun.urun_id][1])\n",
        "                    except:\n",
        "                        pass\n",
        "            self.alinabilir_urunler_toplam_tutar -= self.ozel_kampanya_uygula(uygun_siparis)\n",
        "            self.siparis_sil(uygun_siparis.siparis_id)\n",
        "\n",
        "    def ozel_kampanya_uygula(self, siparis):\n",
        "        \"\"\"\n",
        "        Bir indirim döneminde, enerji sınıfı \"A\" ve \"A+\" olan beyaz eşya ürünlerine 40% indirim yapılmaktadır. Toplam tutar buna göre güncellenir.\n",
        "        \"\"\"\n",
        "        if hasattr(siparis.urun, \"enerji_tuketimi_sinifi\"):\n",
        "            if siparis.urun.enerji_tuketimi_sinifi in [\"A\", \"A+\"]:\n",
        "                return siparis.indirimsiz_tutar * 0.6\n",
        "\n",
        "        return siparis.indirimsiz_tutar\n",
        ""
      ],
      "metadata": {
        "id": "C7bhIczWRWRd"
      },
      "id": "C7bhIczWRWRd",
      "execution_count": 23,
      "outputs": []
    },
    {
      "cell_type": "code",
      "execution_count": 25,
      "id": "5f76a06b",
      "metadata": {
        "id": "5f76a06b",
        "colab": {
          "base_uri": "https://localhost:8080/"
        },
        "outputId": "b61a80ba-c849-4641-cd2e-4ab2dc1e66a5"
      },
      "outputs": [
        {
          "output_type": "stream",
          "name": "stdout",
          "text": [
            "Kazak(#137314505276000) - Fiyat: 2000 TL - Renk: Kırmızı - Beden: Small\n",
            "Çamaşır Makinası(#137314505276096) - Fiyat: 10000 TL - Enerji Sınıfı: A \n"
          ]
        },
        {
          "output_type": "execute_result",
          "data": {
            "text/plain": [
              "['Kazak(#137314505276000) - Fiyat: 2000 TL - Renk: Kırmızı - Beden: Small - Stok: 8000']"
            ]
          },
          "metadata": {},
          "execution_count": 25
        }
      ],
      "source": [
        "# Test Yapısı 1\n",
        "depo1 = Depo()\n",
        "depo2 = Depo()\n",
        "\n",
        "urun1 = Giyim(\"Kazak\", 2000, \"Kırmızı\", \"Small\")\n",
        "urun2 = Beyaz_Esya(\"Çamaşır Makinası\", 10_000, \"A\")\n",
        "\n",
        "print(urun1.urun_bilgileri())\n",
        "print(urun2.urun_bilgileri())\n",
        "\n",
        "depo1.urun_ekle(urun1, 500)\n",
        "depo1.urun_ekle(urun2, 700)\n",
        "\n",
        "depo2.urun_ekle(urun1, 3000)\n",
        "depo2.urun_ekle(urun1, 5000) # urun2 değildir!\n",
        "\n",
        "depo1.tum_urun_bilgilerini_listele()\n",
        "depo2.tum_urun_bilgilerini_listele()\n",
        "\n",
        "siparis1 = Siparis(urun1, 2)\n",
        "siparis2 = Siparis(urun2, 1)\n",
        "\n",
        "alisveris_sepetim = Alisveris_Sepeti(depo1, depo2)\n",
        "\n",
        "alisveris_sepetim.siparis_ekle(siparis1)\n",
        "alisveris_sepetim.siparis_ekle(siparis2)\n",
        "\n",
        "alisveris_sepetim.tum_siparisleri_listele()\n",
        "\n",
        "alisveris_sepetim.guncelle()\n",
        "\n",
        "alisveris_sepetim.alinabilir_tum_siparislerin_bilgilerini_listele()\n",
        "\n",
        "alisveris_sepetim.alisverisi_tamamla()\n",
        "\n",
        "alisveris_sepetim.tum_siparisleri_listele()\n",
        "\n",
        "depo1.tum_urun_bilgilerini_listele()\n",
        "depo2.tum_urun_bilgilerini_listele()"
      ]
    },
    {
      "cell_type": "code",
      "execution_count": 27,
      "id": "e5d506ca",
      "metadata": {
        "id": "e5d506ca",
        "colab": {
          "base_uri": "https://localhost:8080/"
        },
        "outputId": "a182594b-4e63-4721-fd98-a848b7fe34e2"
      },
      "outputs": [
        {
          "output_type": "stream",
          "name": "stdout",
          "text": [
            "Etek(#137314505277056) - Fiyat: 500 TL - Renk: Mavi - Beden: Large\n"
          ]
        },
        {
          "output_type": "execute_result",
          "data": {
            "text/plain": [
              "['Kazak(#137314505276000) - Fiyat: 2000 TL - Renk: Kırmızı - Beden: Small - Stok: 8000',\n",
              " 'Etek(#137314505262512) - Fiyat: 500 TL - Renk: Mavi - Beden: Large - Stok: 5',\n",
              " 'Etek(#137314505277056) - Fiyat: 500 TL - Renk: Mavi - Beden: Large - Stok: 5']"
            ]
          },
          "metadata": {},
          "execution_count": 27
        }
      ],
      "source": [
        "# Test Yapısı 2\n",
        "\n",
        "urun3 = Giyim(\"Etek\", 500, \"Mavi\", \"Large\")\n",
        "\n",
        "print(urun3.urun_bilgileri())\n",
        "\n",
        "depo1.urun_ekle(urun3, 10)\n",
        "depo2.urun_ekle(urun3, 90)\n",
        "\n",
        "depo1.tum_urun_bilgilerini_listele()\n",
        "depo2.tum_urun_bilgilerini_listele()\n",
        "\n",
        "siparis3 = Siparis(urun3, 95)\n",
        "\n",
        "alisveris_sepetim.siparis_ekle(siparis3)\n",
        "\n",
        "alisveris_sepetim.tum_siparisleri_listele()\n",
        "\n",
        "alisveris_sepetim.guncelle()\n",
        "\n",
        "alisveris_sepetim.alinabilir_tum_siparislerin_bilgilerini_listele()\n",
        "\n",
        "alisveris_sepetim.alisverisi_tamamla()\n",
        "\n",
        "alisveris_sepetim.tum_siparisleri_listele()\n",
        "\n",
        "depo1.tum_urun_bilgilerini_listele()\n",
        "depo2.tum_urun_bilgilerini_listele()"
      ]
    },
    {
      "cell_type": "code",
      "execution_count": 28,
      "id": "b673d2ed",
      "metadata": {
        "id": "b673d2ed",
        "colab": {
          "base_uri": "https://localhost:8080/"
        },
        "outputId": "42e482f2-5015-4da7-fe02-77d000d2f3c9"
      },
      "outputs": [
        {
          "output_type": "stream",
          "name": "stdout",
          "text": [
            "Buzdolabı(#137314505267024) - Fiyat: 15000 TL - Enerji Sınıfı: C \n"
          ]
        },
        {
          "output_type": "execute_result",
          "data": {
            "text/plain": [
              "['Kazak(#137314505276000) - Fiyat: 2000 TL - Renk: Kırmızı - Beden: Small - Stok: 8000',\n",
              " 'Etek(#137314505262512) - Fiyat: 500 TL - Renk: Mavi - Beden: Large - Stok: 5',\n",
              " 'Etek(#137314505277056) - Fiyat: 500 TL - Renk: Mavi - Beden: Large - Stok: 5',\n",
              " 'Buzdolabı(#137314505267024) - Fiyat: 15000 TL - Enerji Sınıfı: C  - Stok: 8']"
            ]
          },
          "metadata": {},
          "execution_count": 28
        }
      ],
      "source": [
        "# Test Yapısı 3\n",
        "\n",
        "urun4 = Beyaz_Esya(\"Buzdolabı\", 15_000, \"C\")\n",
        "\n",
        "print(urun4.urun_bilgileri())\n",
        "\n",
        "depo1.urun_ekle(urun4, 3)\n",
        "depo2.urun_ekle(urun4, 8)\n",
        "\n",
        "depo1.tum_urun_bilgilerini_listele()\n",
        "depo2.tum_urun_bilgilerini_listele()\n",
        "\n",
        "siparis4 = Siparis(urun4, 15)\n",
        "\n",
        "alisveris_sepetim.siparis_ekle(siparis4)\n",
        "\n",
        "alisveris_sepetim.tum_siparisleri_listele()\n",
        "\n",
        "alisveris_sepetim.guncelle()\n",
        "\n",
        "alisveris_sepetim.alinabilir_tum_siparislerin_bilgilerini_listele()\n",
        "\n",
        "alisveris_sepetim.alisverisi_tamamla()\n",
        "\n",
        "alisveris_sepetim.tum_siparisleri_listele()\n",
        "\n",
        "depo1.tum_urun_bilgilerini_listele()\n",
        "depo2.tum_urun_bilgilerini_listele()"
      ]
    }
  ],
  "metadata": {
    "kernelspec": {
      "display_name": "Python 3 (ipykernel)",
      "language": "python",
      "name": "python3"
    },
    "language_info": {
      "codemirror_mode": {
        "name": "ipython",
        "version": 3
      },
      "file_extension": ".py",
      "mimetype": "text/x-python",
      "name": "python",
      "nbconvert_exporter": "python",
      "pygments_lexer": "ipython3",
      "version": "3.9.7"
    },
    "colab": {
      "provenance": [],
      "include_colab_link": true
    }
  },
  "nbformat": 4,
  "nbformat_minor": 5
}